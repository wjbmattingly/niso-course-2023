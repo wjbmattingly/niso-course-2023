{
 "cells": [
  {
   "cell_type": "code",
   "execution_count": 8,
   "metadata": {},
   "outputs": [
    {
     "name": "stderr",
     "output_type": "stream",
     "text": [
      "Batches: 100%|██████████| 7/7 [00:02<00:00,  3.25it/s]"
     ]
    },
    {
     "name": "stdout",
     "output_type": "stream",
     "text": [
      "Preprocessing complete and data saved to 'processed_texts.parquet'.\n"
     ]
    },
    {
     "name": "stderr",
     "output_type": "stream",
     "text": [
      "\n"
     ]
    }
   ],
   "source": [
    "import spacy\n",
    "import pandas as pd\n",
    "from sklearn.datasets import fetch_20newsgroups\n",
    "from sentence_transformers import SentenceTransformer\n",
    "\n",
    "# Load the spaCy model\n",
    "nlp = spacy.load(\"en_core_web_sm\")\n",
    "\n",
    "# Initialize the sentence transformer model\n",
    "model = SentenceTransformer('all-MiniLM-L6-v2')\n",
    "\n",
    "# Function to load data\n",
    "def load_data(categories):\n",
    "    newsgroups_data = fetch_20newsgroups(subset='all', categories=categories,\n",
    "                                         remove=('headers', 'footers', 'quotes'))\n",
    "    return newsgroups_data.data[:200]  # Adjust the slice as needed\n",
    "\n",
    "# Function to preprocess documents\n",
    "def preprocess_documents(documents):\n",
    "    processed_data = {\n",
    "        'original_text': [],\n",
    "        'tokenized_text': [],\n",
    "        'hover_text': [],\n",
    "        'text_no_punct_lemma': [],\n",
    "        'text_no_punct': [],\n",
    "        'ml_vectors': []  # Placeholder for machine learning model vectors\n",
    "    }\n",
    "    \n",
    "    for doc in nlp.pipe(documents, disable=[\"ner\", \"parser\"]):  # Disable unnecessary pipelines\n",
    "        # Tokenized text\n",
    "\n",
    "        tokens = [token.text for token in doc]\n",
    "        processed_data['tokenized_text'].append(tokens)\n",
    "\n",
    "        # Hover text\n",
    "        hover_text = \"<br>\".join(tokens[:10]) + '...' if len(tokens) > 10 else \" \".join(tokens)\n",
    "        processed_data['hover_text'].append(hover_text)\n",
    "\n",
    "        # Text with no punctuation and lemmatization\n",
    "        text_no_punct_lemma = \" \".join(token.lemma_ for token in doc if not token.is_punct and token.lemma_ != '-PRON-')\n",
    "        processed_data['text_no_punct_lemma'].append(text_no_punct_lemma)\n",
    "\n",
    "        # Text with no punctuation\n",
    "        text_no_punct = \" \".join(token.text for token in doc if not token.is_punct)\n",
    "        processed_data['text_no_punct'].append(text_no_punct)\n",
    "\n",
    "        # Keep original text for reference\n",
    "        processed_data['original_text'].append(doc.text)\n",
    "    \n",
    "    # Generate machine learning model vectors for the lemmatized, no punctuation texts\n",
    "    ml_vectors = model.encode(processed_data['original_text'], show_progress_bar=True)\n",
    "    processed_data['ml_vectors'] = ml_vectors.tolist()\n",
    "\n",
    "    # Convert processed data to DataFrame\n",
    "    df = pd.DataFrame(processed_data)\n",
    "\n",
    "    return df\n",
    "\n",
    "# Define your categories\n",
    "categories = [\"rec.sport.baseball\", \"sci.space\"]\n",
    "documents = load_data(categories)\n",
    "documents = [doc.replace(\"\\n\", \" \") for doc in documents]\n",
    "df_processed = preprocess_documents(documents)\n",
    "\n",
    "# Save to a parquet file\n",
    "df_processed.to_parquet('../data/processed_texts.parquet')\n",
    "\n",
    "print(\"Preprocessing complete and data saved to 'processed_texts.parquet'.\")\n"
   ]
  },
  {
   "cell_type": "code",
   "execution_count": null,
   "metadata": {},
   "outputs": [],
   "source": []
  }
 ],
 "metadata": {
  "kernelspec": {
   "display_name": "niso",
   "language": "python",
   "name": "python3"
  },
  "language_info": {
   "codemirror_mode": {
    "name": "ipython",
    "version": 3
   },
   "file_extension": ".py",
   "mimetype": "text/x-python",
   "name": "python",
   "nbconvert_exporter": "python",
   "pygments_lexer": "ipython3",
   "version": "3.10.13"
  }
 },
 "nbformat": 4,
 "nbformat_minor": 2
}
